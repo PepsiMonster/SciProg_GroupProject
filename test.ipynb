{
 "cells": [
  {
   "cell_type": "code",
   "execution_count": 1,
   "metadata": {},
   "outputs": [],
   "source": [
    "import numpy as np\n",
    "import matplotlib.pyplot as plt\n",
    "\n",
    "# Задаём общие параметры\n",
    "N = 7777  # Общее количество особей в популяции\n",
    "a = 0.007  # Коэффициент заболевания\n",
    "b = 0.003  # Коэффициент выздоровления\n",
    "crit_I = 90  # Критическое значение зараженных\n",
    "t_end = 10000  # Конечное время\n",
    "dt = 1  # Шаг времени\n"
   ]
  },
  {
   "cell_type": "code",
   "execution_count": 2,
   "metadata": {},
   "outputs": [],
   "source": [
    "def simulate_epidemic(N, I0, a, b, crit_I, t_end, dt):\n",
    "    t = 0\n",
    "    I = I0\n",
    "    R = 0\n",
    "    S = N - I - R\n",
    "\n",
    "    time = []\n",
    "    count_S = []\n",
    "    count_I = []\n",
    "    count_R = []\n",
    "\n",
    "    while t < t_end and int(I) != 0:\n",
    "        if I > crit_I:\n",
    "            # Случай I > I*\n",
    "            dS = -a * S * dt\n",
    "            dI = (a * S - b * I) * dt\n",
    "            dR = b * I * dt\n",
    "            S += dS\n",
    "            I += dI\n",
    "            R += dR\n",
    "        else:\n",
    "            # Случай I <= I*\n",
    "            dI = -b * I * dt\n",
    "            dR = b * I * dt\n",
    "            I += dI\n",
    "            R += dR\n",
    "            S = N - I - R  # Обеспечиваем S + I + R = N\n",
    "\n",
    "        time.append(t)\n",
    "        count_S.append(S)\n",
    "        count_I.append(I)\n",
    "        count_R.append(R)\n",
    "        t += dt\n",
    "\n",
    "    return time, count_S, count_I, count_R\n"
   ]
  },
  {
   "cell_type": "code",
   "execution_count": 3,
   "metadata": {},
   "outputs": [
    {
     "data": {
      "image/png": "[encoded data removed]",
      "text/plain": [
       "<Figure size 640x480 with 1 Axes>"
      ]
     },
     "metadata": {},
     "output_type": "display_data"
    }
   ],
   "source": [
    "# Случай 1: I0 <= I*\n",
    "I0_case1 = 50  # Начальное число инфицированных (I0 <= I*)\n",
    "time1, S1, I1, R1 = simulate_epidemic(N, I0_case1, a, b, crit_I, t_end, dt)\n",
    "\n",
    "# Построение графика\n",
    "plt.figure(dpi=100)\n",
    "plt.plot(time1, S1, lw=2, label='S', color='blue')\n",
    "plt.plot(time1, I1, lw=2, label='I', color='red')\n",
    "plt.plot(time1, R1, lw=2, label='R', color='green')\n",
    "plt.title('Динамика эпидемии (I0 <= I*)')\n",
    "plt.xlabel('Время')\n",
    "plt.ylabel('Число особей')\n",
    "plt.legend()\n",
    "plt.grid()\n",
    "plt.show()\n"
   ]
  },
  {
   "cell_type": "code",
   "execution_count": 4,
   "metadata": {},
   "outputs": [
    {
     "ename": "NameError",
     "evalue": "name 'I0_case2' is not defined",
     "output_type": "error",
     "traceback": [
      "\u001b[1;31m---------------------------------------------------------------------------\u001b[0m",
      "\u001b[1;31mNameError\u001b[0m                                 Traceback (most recent call last)",
      "Cell \u001b[1;32mIn[4], line 79\u001b[0m\n\u001b[0;32m     76\u001b[0m     \u001b[38;5;28;01mreturn\u001b[39;00m time, count_S, count_I, count_R\n\u001b[0;32m     78\u001b[0m \u001b[38;5;66;03m# Симуляция с помощью метода Рунге-Кутты\u001b[39;00m\n\u001b[1;32m---> 79\u001b[0m time_rk4, S_rk4, I_rk4, R_rk4 \u001b[38;5;241m=\u001b[39m simulate_epidemic_rk4(N, I0_case2, a, b, crit_I, t_end, dt)\n\u001b[0;32m     81\u001b[0m \u001b[38;5;66;03m# Построение графика\u001b[39;00m\n\u001b[0;32m     82\u001b[0m plt\u001b[38;5;241m.\u001b[39mfigure(dpi\u001b[38;5;241m=\u001b[39m\u001b[38;5;241m100\u001b[39m)\n",
      "\u001b[1;31mNameError\u001b[0m: name 'I0_case2' is not defined"
     ]
    }
   ],
   "source": [
    "# Реализация метода Рунге-Кутты 4-го порядка\n",
    "def simulate_epidemic_rk4(N, I0, a, b, crit_I, t_end, dt):\n",
    "    t = 0\n",
    "    I = I0\n",
    "    R = 0\n",
    "    S = N - I - R\n",
    "\n",
    "    time = []\n",
    "    count_S = []\n",
    "    count_I = []\n",
    "    count_R = []\n",
    "\n",
    "    while t < t_end and int(I) != 0:\n",
    "        if I > crit_I:\n",
    "            def dSdt(S, I):\n",
    "                return -a * S * I\n",
    "\n",
    "            def dIdt(S, I):\n",
    "                return a * S * I - b * I\n",
    "\n",
    "            def dRdt(I):\n",
    "                return b * I\n",
    "\n",
    "            # Расчёт коэффициентов Рунге-Кутты\n",
    "            kS1 = dSdt(S, I) * dt\n",
    "            kI1 = dIdt(S, I) * dt\n",
    "            kR1 = dRdt(I) * dt\n",
    "\n",
    "            kS2 = dSdt(S + 0.5 * kS1, I + 0.5 * kI1) * dt\n",
    "            kI2 = dIdt(S + 0.5 * kS1, I + 0.5 * kI1) * dt\n",
    "            kR2 = dRdt(I + 0.5 * kI1) * dt\n",
    "\n",
    "            kS3 = dSdt(S + 0.5 * kS2, I + 0.5 * kI2) * dt\n",
    "            kI3 = dIdt(S + 0.5 * kS2, I + 0.5 * kI2) * dt\n",
    "            kR3 = dRdt(I + 0.5 * kI2) * dt\n",
    "\n",
    "            kS4 = dSdt(S + kS3, I + kI3) * dt\n",
    "            kI4 = dIdt(S + kS3, I + kI3) * dt\n",
    "            kR4 = dRdt(I + kI3) * dt\n",
    "\n",
    "            # Обновление значений\n",
    "            S += (kS1 + 2 * kS2 + 2 * kS3 + kS4) / 6\n",
    "            I += (kI1 + 2 * kI2 + 2 * kI3 + kI4) / 6\n",
    "            R += (kR1 + 2 * kR2 + 2 * kR3 + kR4) / 6\n",
    "        else:\n",
    "            def dIdt(I):\n",
    "                return -b * I\n",
    "\n",
    "            def dRdt(I):\n",
    "                return b * I\n",
    "\n",
    "            # Расчёт коэффициентов Рунге-Кутты\n",
    "            kI1 = dIdt(I) * dt\n",
    "            kR1 = dRdt(I) * dt\n",
    "\n",
    "            kI2 = dIdt(I + 0.5 * kI1) * dt\n",
    "            kR2 = dRdt(I + 0.5 * kI1) * dt\n",
    "\n",
    "            kI3 = dIdt(I + 0.5 * kI2) * dt\n",
    "            kR3 = dRdt(I + 0.5 * kI2) * dt\n",
    "\n",
    "            kI4 = dIdt(I + kI3) * dt\n",
    "            kR4 = dRdt(I + kI3) * dt\n",
    "\n",
    "            # Обновление значений\n",
    "            I += (kI1 + 2 * kI2 + 2 * kI3 + kI4) / 6\n",
    "            R += (kR1 + 2 * kR2 + 2 * kR3 + kR4) / 6\n",
    "            S = N - I - R  # Обеспечиваем S + I + R = N\n",
    "\n",
    "        time.append(t)\n",
    "        count_S.append(S)\n",
    "        count_I.append(I)\n",
    "        count_R.append(R)\n",
    "        t += dt\n",
    "\n",
    "    return time, count_S, count_I, count_R\n",
    "\n",
    "# Симуляция с помощью метода Рунге-Кутты\n",
    "time_rk4, S_rk4, I_rk4, R_rk4 = simulate_epidemic_rk4(N, I0_case2, a, b, crit_I, t_end, dt)\n",
    "\n",
    "# Построение графика\n",
    "plt.figure(dpi=100)\n",
    "plt.plot(time_rk4, S_rk4, lw=2, label='S', color='blue')\n",
    "plt.plot(time_rk4, I_rk4, lw=2, label='I', color='red')\n",
    "plt.plot(time_rk4, R_rk4, lw=2, label='R', color='green')\n",
    "plt.title('Динамика эпидемии (Метод Рунге-Кутты)')\n",
    "plt.xlabel('Время')\n",
    "plt.ylabel('Число особей')\n",
    "plt.legend()\n",
    "plt.grid()\n",
    "plt.show()\n"
   ]
  },
  {
   "cell_type": "code",
   "execution_count": null,
   "metadata": {},
   "outputs": [
    {
     "name": "stdout",
     "output_type": "stream",
     "text": [
      "0\n"
     ]
    }
   ],
   "source": [
    "class BST:\n",
    "\n",
    "    def __init__(self,value,level):\n",
    "        self.value = value\n",
    "        self.level = level\n",
    "\n",
    "    def insert(self, value):\n",
    "        if self.__value == None:\n",
    "            self.__value = value\n",
    "            self.__left = BST()\n",
    "            self.__right = BST()\n",
    "        elif self.__value < value:\n",
    "            self.__right.insert(value)\n",
    "        else:\n",
    "            self.__left.insert(value)\n",
    " \n",
    "    def find(self, value, level=0):\n",
    "        if self.__value == None:\n",
    "            return -1\n",
    "        if self.__value == value:\n",
    "            return level\n",
    "        if self.__value < value:\n",
    "            return self.__right.find(value, level + 1)\n",
    "        return self.__left.find(value, level + 1)"
   ]
  },
  {
   "cell_type": "code",
   "execution_count": 17,
   "metadata": {},
   "outputs": [],
   "source": [
    "class Graph:\n",
    "\n",
    "    def __init__(self, n, matrix):\n",
    "         self.__n = n\n",
    "         self.__matrix = matrix\n",
    "\n",
    "    def __dfs(self, i, used=set()):\n",
    "            used = used | {i}\n",
    "            for j in range(self.__n):\n",
    "                if self.__matrix[i][j] == 1 and j not in used:\n",
    "                    used = used | self.__dfs(j, used) \n",
    "            return used\n",
    "    \n",
    "    def is_connected(self):\n",
    "         visited = self.__dfs(0)\n",
    "         return len(visited) == self.__n"
   ]
  },
  {
   "cell_type": "code",
   "execution_count": 18,
   "metadata": {},
   "outputs": [
    {
     "name": "stdout",
     "output_type": "stream",
     "text": [
      "да\n"
     ]
    }
   ],
   "source": [
    "n = int(input())\n",
    "matrix = [list(map(int, input().split())) for _ in range(n)]\n",
    "\n",
    "graph = Graph(n, matrix)\n",
    "print(\"да\" if graph.is_connected() else \"нет\")"
   ]
  },
  {
   "cell_type": "code",
   "execution_count": 24,
   "metadata": {},
   "outputs": [
    {
     "ename": "ModuleNotFoundError",
     "evalue": "No module named 'mimesis'",
     "output_type": "error",
     "traceback": [
      "\u001b[1;31m---------------------------------------------------------------------------\u001b[0m",
      "\u001b[1;31mModuleNotFoundError\u001b[0m                       Traceback (most recent call last)",
      "Cell \u001b[1;32mIn[24], line 1\u001b[0m\n\u001b[1;32m----> 1\u001b[0m \u001b[38;5;28;01mfrom\u001b[39;00m \u001b[38;5;21;01mmimesis\u001b[39;00m \u001b[38;5;28;01mimport\u001b[39;00m Text\n\u001b[0;32m      2\u001b[0m text \u001b[38;5;241m=\u001b[39m Text(\u001b[38;5;124m'\u001b[39m\u001b[38;5;124mru\u001b[39m\u001b[38;5;124m'\u001b[39m)\n\u001b[0;32m      3\u001b[0m \u001b[38;5;28mprint\u001b[39m(text\u001b[38;5;241m.\u001b[39mtext(quantity\u001b[38;5;241m=\u001b[39m\u001b[38;5;241m5\u001b[39m))\n",
      "\u001b[1;31mModuleNotFoundError\u001b[0m: No module named 'mimesis'"
     ]
    }
   ],
   "source": [
    "from mimesis import Text\n",
    "text = Text('ru')\n",
    "print(text.text(quantity=5))"
   ]
  }
 ],
 "metadata": {
  "kernelspec": {
   "display_name": "NewEnv",
   "language": "python",
   "name": "python3"
  },
  "language_info": {
   "codemirror_mode": {
    "name": "ipython",
    "version": 3
   },
   "file_extension": ".py",
   "mimetype": "text/x-python",
   "name": "python",
   "nbconvert_exporter": "python",
   "pygments_lexer": "ipython3",
   "version": "3.12.5"
  }
 },
 "nbformat": 4,
 "nbformat_minor": 2
}
